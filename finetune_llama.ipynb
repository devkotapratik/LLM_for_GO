{
 "cells": [
  {
   "cell_type": "code",
   "execution_count": null,
   "metadata": {},
   "outputs": [],
   "source": [
    "import os\n",
    "import re\n",
    "import torch\n",
    "from pathlib import Path\n",
    "from transformers import LlamaTokenizer, LlamaForCausalLM, BitsAndBytesConfig\n",
    "import transformers\n",
    "\n",
    "from datasets import load_dataset"
   ]
  },
  {
   "cell_type": "code",
   "execution_count": null,
   "metadata": {},
   "outputs": [],
   "source": [
    "BASE_DIR = Path(\".\")\n",
    "MODEL_DIR = Path.joinpath(BASE_DIR, \"MODELS\", \"HF\")\n",
    "DATA_DIR = Path.joinpath(BASE_DIR, \"data\")\n",
    "DATASET_DIR = Path.joinpath(DATA_DIR, \"model_input\", \"dataset\")\n",
    "\n",
    "LLAMA_MODEL = Path.joinpath(MODEL_DIR, \"Llama\", \"7B\")\n",
    "OUT_DIR = Path.joinpath(MODEL_DIR.parent, \"qLORA\", \"_\".join(LLAMA_MODEL.parts[-2:]).upper())"
   ]
  },
  {
   "cell_type": "code",
   "execution_count": null,
   "metadata": {},
   "outputs": [],
   "source": [
    "model_name = str(LLAMA_MODEL)\n",
    "bnb_config = BitsAndBytesConfig(\n",
    "    load_in_4bit=True,\n",
    "    bnb_4bit_use_double_quant=True,\n",
    "    bnb_4bit_quant_type=\"nf4\",\n",
    "    bnb_4bit_compute_dtype=torch.float16\n",
    ")"
   ]
  },
  {
   "cell_type": "code",
   "execution_count": null,
   "metadata": {},
   "outputs": [],
   "source": [
    "tokenizer = LlamaTokenizer.from_pretrained(model_name, )\n",
    "model = LlamaForCausalLM.from_pretrained(\n",
    "    model_name,\n",
    "    quantization_config=bnb_config,\n",
    "    device_map=\"auto\",\n",
    ")"
   ]
  },
  {
   "cell_type": "code",
   "execution_count": null,
   "metadata": {},
   "outputs": [],
   "source": [
    "from peft import prepare_model_for_kbit_training\n",
    "\n",
    "model.gradient_checkpointing_enable()\n",
    "model = prepare_model_for_kbit_training(model)"
   ]
  },
  {
   "cell_type": "code",
   "execution_count": null,
   "metadata": {},
   "outputs": [],
   "source": [
    "from peft import LoraConfig, get_peft_model\n",
    "\n",
    "config = LoraConfig(\n",
    "    r=8, \n",
    "    lora_alpha=16, \n",
    "    target_modules=[\n",
    "        \"q_proj\",\n",
    "        \"k_proj\",\n",
    "        \"v_proj\",\n",
    "        \"o_proj\",\n",
    "    ], \n",
    "    lora_dropout=0.05, \n",
    "    bias=\"none\", \n",
    "    task_type=\"CAUSAL_LM\"\n",
    ")\n",
    "\n",
    "model = get_peft_model(model, config)\n",
    "model.print_trainable_parameters()"
   ]
  },
  {
   "cell_type": "code",
   "execution_count": null,
   "metadata": {},
   "outputs": [],
   "source": [
    "data_files = [i for i in DATASET_DIR.iterdir() if i.suffix==\".json\" and \"v4\" in str(i)]\n",
    "train_file = [i for i in data_files if \"train\" in str(i)][0]\n",
    "eval_file = [i for i in data_files if \"test\" in str(i)][0]\n",
    "dataset = load_dataset(\n",
    "    \"json\",\n",
    "    data_files={\n",
    "        \"train\": str(train_file),\n",
    "        \"eval\": str(eval_file)\n",
    "    })"
   ]
  },
  {
   "cell_type": "code",
   "execution_count": null,
   "metadata": {},
   "outputs": [],
   "source": [
    "def annotstrflist(example):\n",
    "    data = \"terms: none\\nGO concepts: none\\nparents: none\"\n",
    "    if len(example[\"annot\"]):\n",
    "        terms, concepts, parents = [], [], []\n",
    "        for j in example[\"annot\"]:\n",
    "            terms.append(j[\"spanned_text\"])\n",
    "            concepts.append(j[\"go_concept\"])\n",
    "            parent = [k[\"GO Concept\"] for k in j[\"parents\"]]\n",
    "            if len(parent) == 0:\n",
    "                parent= \"none\"\n",
    "            elif len(parent) == 1:\n",
    "                parent = parent[0]\n",
    "            else:\n",
    "                parent = f\"[{' | '.join(parent)}]\"\n",
    "            parents.append(parent)\n",
    "        assert len(terms) == len(concepts) == len(parents)\n",
    "        terms = \" | \".join(terms)\n",
    "        concepts = \" | \".join(concepts)\n",
    "        parents = \" | \".join(parents)\n",
    "        data = f\"terms: [{terms}]\\nGO concepts: [{concepts}]\\nparents: [{parents}]\"\n",
    "    return data"
   ]
  },
  {
   "cell_type": "code",
   "execution_count": null,
   "metadata": {},
   "outputs": [],
   "source": [
    "def generate_prompt(example):\n",
    "    pre_prompt = \"\"\"Gene Ontology (GO) is a widely used bioinformatics resource that provides a structured\n",
    "    vocabulary for annotating and categorizing genes and gene products based on their biological functions,\n",
    "    cellular locations, and molecular activities. You are a gene ontology expert and your objective is to use\n",
    "    your knowledge of the biological domain and the details provided below to write a response that appropriately\n",
    "    completes the instruction.\"\"\"\n",
    "    pre_prompt = re.sub(r\"\\s+\", \" \", pre_prompt)\n",
    "    \n",
    "    instruction = \"\"\"Use the input sentence below to label the tokens: terms, GO concepts and parents.\n",
    "    A term is a word or a phrase (phrase is a sequence of words) that represents a GO concept. Each term\n",
    "    MUST be present in the provided input sentence. A GO concept refers to a specific term or category with\n",
    "    GO hierarchy. Each GO concept can have zero or more parents. A parent represents immediate predecessor\n",
    "    of a GO concept. The response SHOULD have equal number of terms, GO concepts and parents.\"\"\"\n",
    "    instruction = re.sub(r\"\\s+\", \" \", instruction)\n",
    "    inp = example[\"pre\"]\n",
    "    prompt = f\"{pre_prompt}\\n\\n### Instruction:\\n{instruction}\\n\\n### Input:\\n{inp}\\n\\n### Response:\\n\"\n",
    "    response = prompt + annotstrflist(example)\n",
    "    encoded_full_prompt_and_response = tokenizer(response)\n",
    "    return encoded_full_prompt_and_response"
   ]
  },
  {
   "cell_type": "code",
   "execution_count": null,
   "metadata": {},
   "outputs": [],
   "source": [
    "new_dataset = dataset.map(generate_prompt, num_proc=os.cpu_count())\n",
    "new_dataset = new_dataset.filter(lambda x: len(x[\"input_ids\"]) < 400, num_proc=os.cpu_count())\n",
    "new_dataset"
   ]
  },
  {
   "cell_type": "code",
   "execution_count": null,
   "metadata": {},
   "outputs": [],
   "source": [
    "training_args = transformers.TrainingArguments(\n",
    "    output_dir=OUT_DIR,\n",
    "    per_device_train_batch_size=16,\n",
    "    gradient_accumulation_steps=1,\n",
    "    warmup_steps=5,\n",
    "    num_train_epochs=2,\n",
    "    learning_rate=1e-5,\n",
    "    fp16=True,\n",
    "    logging_steps=10,\n",
    "    optim=\"paged_adamw_8bit\",\n",
    "    report_to=\"none\",\n",
    "    weight_decay=0.01,\n",
    "    do_train=True,\n",
    "    save_steps=200,\n",
    "    save_total_limit=3,\n",
    ")"
   ]
  },
  {
   "cell_type": "code",
   "execution_count": null,
   "metadata": {},
   "outputs": [],
   "source": [
    "tokenizer.pad_token = tokenizer.eos_token\n",
    "\n",
    "trainer = transformers.Trainer(\n",
    "    model=model,\n",
    "    train_dataset=new_dataset[\"train\"],\n",
    "    args=training_args,\n",
    "    data_collator=transformers.DataCollatorForLanguageModeling(tokenizer, mlm=False, return_tensors=\"pt\"),\n",
    ")"
   ]
  },
  {
   "cell_type": "code",
   "execution_count": null,
   "metadata": {},
   "outputs": [],
   "source": [
    "model.config.use_cache = False\n",
    "trainer.train()"
   ]
  },
  {
   "cell_type": "code",
   "execution_count": null,
   "metadata": {},
   "outputs": [],
   "source": [
    "trainer.save_model(OUT_DIR)"
   ]
  },
  {
   "cell_type": "code",
   "execution_count": null,
   "metadata": {},
   "outputs": [],
   "source": []
  }
 ],
 "metadata": {
  "kernelspec": {
   "display_name": "GPU",
   "language": "python",
   "name": "gpu_venv"
  },
  "language_info": {
   "codemirror_mode": {
    "name": "ipython",
    "version": 3
   },
   "file_extension": ".py",
   "mimetype": "text/x-python",
   "name": "python",
   "nbconvert_exporter": "python",
   "pygments_lexer": "ipython3",
   "version": "3.10.6"
  },
  "orig_nbformat": 4
 },
 "nbformat": 4,
 "nbformat_minor": 2
}
